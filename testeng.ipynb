{
 "cells": [
  {
   "cell_type": "code",
   "execution_count": 1,
   "metadata": {},
   "outputs": [
    {
     "name": "stdout",
     "output_type": "stream",
     "text": [
      "(CVXPY) Nov 24 11:10:04 AM: Encountered unexpected exception importing solver OSQP:\n",
      "ImportError('DLL load failed while importing qdldl: The specified module could not be found.')\n",
      "This script pulls data from Bloomberg and saves it. Using this script often may result in hitting your data limit.\n",
      " When you are done using the script, make sure to delete any files saved. As we are not allowed to store Bloomberg data.\n"
     ]
    }
   ],
   "source": [
    "from STRRunner import STRRunner\n",
    "import pdblp\n",
    "import pandas as pd\n",
    "import pdblp\n",
    "spx = STRRunner(2016,2024, 'SPX Index')"
   ]
  },
  {
   "cell_type": "code",
   "execution_count": 2,
   "metadata": {},
   "outputs": [
    {
     "name": "stdout",
     "output_type": "stream",
     "text": [
      "Found a csv at SPX Index/constituents.csv not pulling again as you will DEFINITELY run out of data at some point. If you want to change. Run the reset() method\n",
      "Found a pickle at SPX Index/constituent_data.pkl not pulling again as you will DEFINITELY run out of data at some point. If you want to change. Run the reset() method\n",
      "Found a csv at SPX Index/prices.csv not pulling again as you will DEFINITELY run out of data at some point. If you want to change. Run the reset() method\n"
     ]
    }
   ],
   "source": [
    "spx.generate_schedule()\n",
    "spx.retrieve_index_constituents()\n",
    "spx.fetch_relevant_data()\n",
    "spx.fetch_prices()"
   ]
  },
  {
   "cell_type": "code",
   "execution_count": 16,
   "metadata": {},
   "outputs": [],
   "source": [
    "import itertools\n",
    "import pandas as pd\n",
    "import numpy as np\n",
    "\n",
    "def grid_search(spx, beta_limits, sector_limits, max_weights, log):\n",
    "    \"\"\"\n",
    "    Perform a grid search to find the best combination of beta_limit, sector_limit, and max_weight.\n",
    "\n",
    "    Parameters:\n",
    "    - spx: The STRRunner instance.\n",
    "    - beta_limits: List of beta limit values to test.\n",
    "    - sector_limits: List of sector limit values to test.\n",
    "    - max_weights: List of max weight values to test.\n",
    "\n",
    "    Returns:\n",
    "    - results: A DataFrame containing all combinations and their corresponding final cumulative returns.\n",
    "    \"\"\"\n",
    "    # Store results\n",
    "    results = []\n",
    "\n",
    "    # Generate all combinations of the parameters\n",
    "    param_combinations = itertools.product(beta_limits, sector_limits, max_weights, log)\n",
    "\n",
    "    for beta_limit, sector_limit, max_weight, log in param_combinations:\n",
    "        print(f\"Testing: beta_limit={beta_limit}, sector_limit={sector_limit}, max_weight={max_weight}, log={log}\")\n",
    "\n",
    "        # Run the portfolio creation and backtest\n",
    "        spx.create_portfolios(\n",
    "            beta_range=(-beta_limit, beta_limit),\n",
    "            sector_range=(-sector_limit, sector_limit),\n",
    "            max_weight=max_weight,\n",
    "            log=log\n",
    "        )\n",
    "        spx.run_backtest()\n",
    "\n",
    "        # Get the final cumulative return\n",
    "        final_cumulative_return = spx.cumulative_strategy_returns.iloc[-1]\n",
    "        sharpe = spx.strategy_returns.mean()*252 / (spx.strategy_returns.std() * np.sqrt(252))\n",
    "        print(f\"Result: {sharpe}\")\n",
    "\n",
    "        # Store the results\n",
    "        results.append({\n",
    "            \"beta_limit\": beta_limit,\n",
    "            \"sector_limit\": sector_limit,\n",
    "            \"max_weight\": max_weight,\n",
    "            \"log\" : log,\n",
    "            \"final_cumulative_return\": final_cumulative_return,\n",
    "            \"sharpe\" : sharpe\n",
    "        })\n",
    "\n",
    "    # Convert results to a DataFrame\n",
    "    results_df = pd.DataFrame(results)\n",
    "    return results_df\n"
   ]
  },
  {
   "cell_type": "code",
   "execution_count": 17,
   "metadata": {},
   "outputs": [
    {
     "name": "stdout",
     "output_type": "stream",
     "text": [
      "Testing: beta_limit=0.05, sector_limit=0.05, max_weight=0.02, log=True\n"
     ]
    },
    {
     "name": "stderr",
     "output_type": "stream",
     "text": [
      "100%|██████████| 36/36 [00:03<00:00,  9.11it/s]\n"
     ]
    },
    {
     "name": "stdout",
     "output_type": "stream",
     "text": [
      "Failed for 2024-12-12 00:00:00. Potentially this is a future date Invalid dimensions (0,).\n",
      "Result: 0.018732376633828658\n",
      "Testing: beta_limit=0.05, sector_limit=0.05, max_weight=0.02, log=False\n"
     ]
    },
    {
     "name": "stderr",
     "output_type": "stream",
     "text": [
      "100%|██████████| 36/36 [00:05<00:00,  7.10it/s]\n"
     ]
    },
    {
     "name": "stdout",
     "output_type": "stream",
     "text": [
      "Failed for 2024-12-12 00:00:00. Potentially this is a future date Invalid dimensions (0,).\n",
      "Result: 0.061556947646265556\n",
      "Testing: beta_limit=0.05, sector_limit=0.05, max_weight=0.025, log=True\n"
     ]
    },
    {
     "name": "stderr",
     "output_type": "stream",
     "text": [
      "100%|██████████| 36/36 [00:01<00:00, 28.90it/s]\n"
     ]
    },
    {
     "name": "stdout",
     "output_type": "stream",
     "text": [
      "Failed for 2024-12-12 00:00:00. Potentially this is a future date Invalid dimensions (0,).\n",
      "Result: -0.029371875993926357\n",
      "Testing: beta_limit=0.05, sector_limit=0.05, max_weight=0.025, log=False\n"
     ]
    },
    {
     "name": "stderr",
     "output_type": "stream",
     "text": [
      "100%|██████████| 36/36 [00:01<00:00, 26.18it/s]\n"
     ]
    },
    {
     "name": "stdout",
     "output_type": "stream",
     "text": [
      "Failed for 2024-12-12 00:00:00. Potentially this is a future date Invalid dimensions (0,).\n",
      "Result: 0.1575449270046548\n",
      "Testing: beta_limit=0.05, sector_limit=0.05, max_weight=0.03, log=True\n"
     ]
    },
    {
     "name": "stderr",
     "output_type": "stream",
     "text": [
      "100%|██████████| 36/36 [00:04<00:00,  7.75it/s]\n"
     ]
    },
    {
     "name": "stdout",
     "output_type": "stream",
     "text": [
      "Failed for 2024-12-12 00:00:00. Potentially this is a future date Invalid dimensions (0,).\n",
      "Result: -0.12432286876909188\n",
      "Testing: beta_limit=0.05, sector_limit=0.05, max_weight=0.03, log=False\n"
     ]
    },
    {
     "name": "stderr",
     "output_type": "stream",
     "text": [
      "100%|██████████| 36/36 [00:07<00:00,  4.99it/s]\n"
     ]
    },
    {
     "name": "stdout",
     "output_type": "stream",
     "text": [
      "Failed for 2024-12-12 00:00:00. Potentially this is a future date Invalid dimensions (0,).\n",
      "Result: 0.03689007986112227\n",
      "Testing: beta_limit=0.05, sector_limit=0.1, max_weight=0.02, log=True\n"
     ]
    },
    {
     "name": "stderr",
     "output_type": "stream",
     "text": [
      "100%|██████████| 36/36 [00:01<00:00, 31.07it/s]\n"
     ]
    },
    {
     "name": "stdout",
     "output_type": "stream",
     "text": [
      "Failed for 2024-12-12 00:00:00. Potentially this is a future date Invalid dimensions (0,).\n",
      "Result: -0.13687382713020527\n",
      "Testing: beta_limit=0.05, sector_limit=0.1, max_weight=0.02, log=False\n"
     ]
    },
    {
     "name": "stderr",
     "output_type": "stream",
     "text": [
      "100%|██████████| 36/36 [00:01<00:00, 30.79it/s]\n"
     ]
    },
    {
     "name": "stdout",
     "output_type": "stream",
     "text": [
      "Failed for 2024-12-12 00:00:00. Potentially this is a future date Invalid dimensions (0,).\n",
      "Result: -0.02943987733025952\n",
      "Testing: beta_limit=0.05, sector_limit=0.1, max_weight=0.025, log=True\n"
     ]
    },
    {
     "name": "stderr",
     "output_type": "stream",
     "text": [
      "100%|██████████| 36/36 [00:01<00:00, 27.38it/s]\n"
     ]
    },
    {
     "name": "stdout",
     "output_type": "stream",
     "text": [
      "Failed for 2024-12-12 00:00:00. Potentially this is a future date Invalid dimensions (0,).\n",
      "Result: 0.1500871303039219\n",
      "Testing: beta_limit=0.05, sector_limit=0.1, max_weight=0.025, log=False\n"
     ]
    },
    {
     "name": "stderr",
     "output_type": "stream",
     "text": [
      "100%|██████████| 36/36 [00:01<00:00, 29.70it/s]\n"
     ]
    },
    {
     "name": "stdout",
     "output_type": "stream",
     "text": [
      "Failed for 2024-12-12 00:00:00. Potentially this is a future date Invalid dimensions (0,).\n",
      "Result: 0.1766068920756317\n",
      "Testing: beta_limit=0.05, sector_limit=0.1, max_weight=0.03, log=True\n"
     ]
    },
    {
     "name": "stderr",
     "output_type": "stream",
     "text": [
      "100%|██████████| 36/36 [00:02<00:00, 12.83it/s]\n"
     ]
    },
    {
     "name": "stdout",
     "output_type": "stream",
     "text": [
      "Failed for 2024-12-12 00:00:00. Potentially this is a future date Invalid dimensions (0,).\n",
      "Result: -0.12623911141792982\n",
      "Testing: beta_limit=0.05, sector_limit=0.1, max_weight=0.03, log=False\n"
     ]
    },
    {
     "name": "stderr",
     "output_type": "stream",
     "text": [
      "100%|██████████| 36/36 [00:02<00:00, 13.59it/s]\n"
     ]
    },
    {
     "name": "stdout",
     "output_type": "stream",
     "text": [
      "Failed for 2024-12-12 00:00:00. Potentially this is a future date Invalid dimensions (0,).\n",
      "Result: -0.13736911954784664\n",
      "Testing: beta_limit=0.05, sector_limit=0.2, max_weight=0.02, log=True\n"
     ]
    },
    {
     "name": "stderr",
     "output_type": "stream",
     "text": [
      "100%|██████████| 36/36 [00:01<00:00, 28.17it/s]\n"
     ]
    },
    {
     "name": "stdout",
     "output_type": "stream",
     "text": [
      "Failed for 2024-12-12 00:00:00. Potentially this is a future date Invalid dimensions (0,).\n",
      "Result: -0.15082229811997494\n",
      "Testing: beta_limit=0.05, sector_limit=0.2, max_weight=0.02, log=False\n"
     ]
    },
    {
     "name": "stderr",
     "output_type": "stream",
     "text": [
      "100%|██████████| 36/36 [00:01<00:00, 29.01it/s]\n"
     ]
    },
    {
     "name": "stdout",
     "output_type": "stream",
     "text": [
      "Failed for 2024-12-12 00:00:00. Potentially this is a future date Invalid dimensions (0,).\n",
      "Result: -0.12105980553389581\n",
      "Testing: beta_limit=0.05, sector_limit=0.2, max_weight=0.025, log=True\n"
     ]
    },
    {
     "name": "stderr",
     "output_type": "stream",
     "text": [
      "100%|██████████| 36/36 [00:01<00:00, 26.13it/s]\n"
     ]
    },
    {
     "name": "stdout",
     "output_type": "stream",
     "text": [
      "Failed for 2024-12-12 00:00:00. Potentially this is a future date Invalid dimensions (0,).\n",
      "Result: 0.002409181840182078\n",
      "Testing: beta_limit=0.05, sector_limit=0.2, max_weight=0.025, log=False\n"
     ]
    },
    {
     "name": "stderr",
     "output_type": "stream",
     "text": [
      "100%|██████████| 36/36 [00:01<00:00, 30.23it/s]\n"
     ]
    },
    {
     "name": "stdout",
     "output_type": "stream",
     "text": [
      "Failed for 2024-12-12 00:00:00. Potentially this is a future date Invalid dimensions (0,).\n",
      "Result: -0.0739756064136131\n",
      "Testing: beta_limit=0.05, sector_limit=0.2, max_weight=0.03, log=True\n"
     ]
    },
    {
     "name": "stderr",
     "output_type": "stream",
     "text": [
      "100%|██████████| 36/36 [00:02<00:00, 15.97it/s]\n"
     ]
    },
    {
     "name": "stdout",
     "output_type": "stream",
     "text": [
      "Failed for 2024-12-12 00:00:00. Potentially this is a future date Invalid dimensions (0,).\n",
      "Result: -0.11902010318896633\n",
      "Testing: beta_limit=0.05, sector_limit=0.2, max_weight=0.03, log=False\n"
     ]
    },
    {
     "name": "stderr",
     "output_type": "stream",
     "text": [
      "100%|██████████| 36/36 [00:01<00:00, 26.07it/s]\n"
     ]
    },
    {
     "name": "stdout",
     "output_type": "stream",
     "text": [
      "Failed for 2024-12-12 00:00:00. Potentially this is a future date Invalid dimensions (0,).\n",
      "Result: -0.2740918479200377\n",
      "Testing: beta_limit=0.1, sector_limit=0.05, max_weight=0.02, log=True\n"
     ]
    },
    {
     "name": "stderr",
     "output_type": "stream",
     "text": [
      "100%|██████████| 36/36 [00:04<00:00,  7.49it/s]\n"
     ]
    },
    {
     "name": "stdout",
     "output_type": "stream",
     "text": [
      "Failed for 2024-12-12 00:00:00. Potentially this is a future date Invalid dimensions (0,).\n",
      "Result: 0.036235490419458186\n",
      "Testing: beta_limit=0.1, sector_limit=0.05, max_weight=0.02, log=False\n"
     ]
    },
    {
     "name": "stderr",
     "output_type": "stream",
     "text": [
      "100%|██████████| 36/36 [00:04<00:00,  7.56it/s]\n"
     ]
    },
    {
     "name": "stdout",
     "output_type": "stream",
     "text": [
      "Failed for 2024-12-12 00:00:00. Potentially this is a future date Invalid dimensions (0,).\n",
      "Result: 0.019734614504308138\n",
      "Testing: beta_limit=0.1, sector_limit=0.05, max_weight=0.025, log=True\n"
     ]
    },
    {
     "name": "stderr",
     "output_type": "stream",
     "text": [
      "100%|██████████| 36/36 [00:01<00:00, 19.34it/s]\n"
     ]
    },
    {
     "name": "stdout",
     "output_type": "stream",
     "text": [
      "Failed for 2024-12-12 00:00:00. Potentially this is a future date Invalid dimensions (0,).\n",
      "Result: -0.020798133937107353\n",
      "Testing: beta_limit=0.1, sector_limit=0.05, max_weight=0.025, log=False\n"
     ]
    },
    {
     "name": "stderr",
     "output_type": "stream",
     "text": [
      "100%|██████████| 36/36 [00:01<00:00, 32.46it/s]\n"
     ]
    },
    {
     "name": "stdout",
     "output_type": "stream",
     "text": [
      "Failed for 2024-12-12 00:00:00. Potentially this is a future date Invalid dimensions (0,).\n",
      "Result: 0.1671018434926971\n",
      "Testing: beta_limit=0.1, sector_limit=0.05, max_weight=0.03, log=True\n"
     ]
    },
    {
     "name": "stderr",
     "output_type": "stream",
     "text": [
      "100%|██████████| 36/36 [00:03<00:00,  9.19it/s]\n"
     ]
    },
    {
     "name": "stdout",
     "output_type": "stream",
     "text": [
      "Failed for 2024-12-12 00:00:00. Potentially this is a future date Invalid dimensions (0,).\n",
      "Result: -0.14909010766069933\n",
      "Testing: beta_limit=0.1, sector_limit=0.05, max_weight=0.03, log=False\n"
     ]
    },
    {
     "name": "stderr",
     "output_type": "stream",
     "text": [
      "100%|██████████| 36/36 [00:06<00:00,  5.76it/s]\n"
     ]
    },
    {
     "name": "stdout",
     "output_type": "stream",
     "text": [
      "Failed for 2024-12-12 00:00:00. Potentially this is a future date Invalid dimensions (0,).\n",
      "Result: 0.027632420588169233\n",
      "Testing: beta_limit=0.1, sector_limit=0.1, max_weight=0.02, log=True\n"
     ]
    },
    {
     "name": "stderr",
     "output_type": "stream",
     "text": [
      "100%|██████████| 36/36 [00:01<00:00, 27.49it/s]\n"
     ]
    },
    {
     "name": "stdout",
     "output_type": "stream",
     "text": [
      "Failed for 2024-12-12 00:00:00. Potentially this is a future date Invalid dimensions (0,).\n",
      "Result: 0.10197766045620629\n",
      "Testing: beta_limit=0.1, sector_limit=0.1, max_weight=0.02, log=False\n"
     ]
    },
    {
     "name": "stderr",
     "output_type": "stream",
     "text": [
      "100%|██████████| 36/36 [00:01<00:00, 31.75it/s]\n"
     ]
    },
    {
     "name": "stdout",
     "output_type": "stream",
     "text": [
      "Failed for 2024-12-12 00:00:00. Potentially this is a future date Invalid dimensions (0,).\n",
      "Result: -0.051310024099677574\n",
      "Testing: beta_limit=0.1, sector_limit=0.1, max_weight=0.025, log=True\n"
     ]
    },
    {
     "name": "stderr",
     "output_type": "stream",
     "text": [
      "100%|██████████| 36/36 [00:01<00:00, 21.19it/s]\n"
     ]
    },
    {
     "name": "stdout",
     "output_type": "stream",
     "text": [
      "Failed for 2024-12-12 00:00:00. Potentially this is a future date Invalid dimensions (0,).\n",
      "Result: 0.13819747301519655\n",
      "Testing: beta_limit=0.1, sector_limit=0.1, max_weight=0.025, log=False\n"
     ]
    },
    {
     "name": "stderr",
     "output_type": "stream",
     "text": [
      "100%|██████████| 36/36 [00:01<00:00, 26.43it/s]\n"
     ]
    },
    {
     "name": "stdout",
     "output_type": "stream",
     "text": [
      "Failed for 2024-12-12 00:00:00. Potentially this is a future date Invalid dimensions (0,).\n",
      "Result: 0.033537209317800416\n",
      "Testing: beta_limit=0.1, sector_limit=0.1, max_weight=0.03, log=True\n"
     ]
    },
    {
     "name": "stderr",
     "output_type": "stream",
     "text": [
      "100%|██████████| 36/36 [00:02<00:00, 12.48it/s]\n"
     ]
    },
    {
     "name": "stdout",
     "output_type": "stream",
     "text": [
      "Failed for 2024-12-12 00:00:00. Potentially this is a future date Invalid dimensions (0,).\n",
      "Result: -0.16576221299082639\n",
      "Testing: beta_limit=0.1, sector_limit=0.1, max_weight=0.03, log=False\n"
     ]
    },
    {
     "name": "stderr",
     "output_type": "stream",
     "text": [
      "100%|██████████| 36/36 [00:02<00:00, 14.58it/s]\n"
     ]
    },
    {
     "name": "stdout",
     "output_type": "stream",
     "text": [
      "Failed for 2024-12-12 00:00:00. Potentially this is a future date Invalid dimensions (0,).\n",
      "Result: -0.12437699084805286\n",
      "Testing: beta_limit=0.1, sector_limit=0.2, max_weight=0.02, log=True\n"
     ]
    },
    {
     "name": "stderr",
     "output_type": "stream",
     "text": [
      "100%|██████████| 36/36 [00:01<00:00, 32.46it/s]\n"
     ]
    },
    {
     "name": "stdout",
     "output_type": "stream",
     "text": [
      "Failed for 2024-12-12 00:00:00. Potentially this is a future date Invalid dimensions (0,).\n",
      "Result: -0.1407904648056231\n",
      "Testing: beta_limit=0.1, sector_limit=0.2, max_weight=0.02, log=False\n"
     ]
    },
    {
     "name": "stderr",
     "output_type": "stream",
     "text": [
      "100%|██████████| 36/36 [00:01<00:00, 34.06it/s]\n"
     ]
    },
    {
     "name": "stdout",
     "output_type": "stream",
     "text": [
      "Failed for 2024-12-12 00:00:00. Potentially this is a future date Invalid dimensions (0,).\n",
      "Result: -0.13503510974387758\n",
      "Testing: beta_limit=0.1, sector_limit=0.2, max_weight=0.025, log=True\n"
     ]
    },
    {
     "name": "stderr",
     "output_type": "stream",
     "text": [
      "100%|██████████| 36/36 [00:01<00:00, 26.05it/s]\n"
     ]
    },
    {
     "name": "stdout",
     "output_type": "stream",
     "text": [
      "Failed for 2024-12-12 00:00:00. Potentially this is a future date Invalid dimensions (0,).\n",
      "Result: -0.022199114338140723\n",
      "Testing: beta_limit=0.1, sector_limit=0.2, max_weight=0.025, log=False\n"
     ]
    },
    {
     "name": "stderr",
     "output_type": "stream",
     "text": [
      "100%|██████████| 36/36 [00:01<00:00, 32.65it/s]\n"
     ]
    },
    {
     "name": "stdout",
     "output_type": "stream",
     "text": [
      "Failed for 2024-12-12 00:00:00. Potentially this is a future date Invalid dimensions (0,).\n",
      "Result: -0.06003653364186256\n",
      "Testing: beta_limit=0.1, sector_limit=0.2, max_weight=0.03, log=True\n"
     ]
    },
    {
     "name": "stderr",
     "output_type": "stream",
     "text": [
      "100%|██████████| 36/36 [00:01<00:00, 21.52it/s]\n"
     ]
    },
    {
     "name": "stdout",
     "output_type": "stream",
     "text": [
      "Failed for 2024-12-12 00:00:00. Potentially this is a future date Invalid dimensions (0,).\n",
      "Result: -0.17068593371957105\n",
      "Testing: beta_limit=0.1, sector_limit=0.2, max_weight=0.03, log=False\n"
     ]
    },
    {
     "name": "stderr",
     "output_type": "stream",
     "text": [
      "100%|██████████| 36/36 [00:01<00:00, 24.92it/s]"
     ]
    },
    {
     "name": "stdout",
     "output_type": "stream",
     "text": [
      "Failed for 2024-12-12 00:00:00. Potentially this is a future date Invalid dimensions (0,).\n",
      "Result: -0.2891973525764855\n"
     ]
    },
    {
     "name": "stderr",
     "output_type": "stream",
     "text": [
      "\n"
     ]
    }
   ],
   "source": [
    "# Define ranges for grid search\n",
    "beta_limits = [0.05, 0.1]\n",
    "sector_limits = [0.05, 0.1, 0.2]\n",
    "max_weights = [0.02, 0.025, 0.03]\n",
    "log = [True, False]\n",
    "\n",
    "# Perform grid search\n",
    "results = grid_search(spx, beta_limits, sector_limits, max_weights, log)"
   ]
  },
  {
   "cell_type": "code",
   "execution_count": 19,
   "metadata": {},
   "outputs": [
    {
     "name": "stderr",
     "output_type": "stream",
     "text": [
      "100%|██████████| 36/36 [00:01<00:00, 29.84it/s]"
     ]
    },
    {
     "name": "stdout",
     "output_type": "stream",
     "text": [
      "Failed for 2024-12-12 00:00:00. Potentially this is a future date Invalid dimensions (0,).\n"
     ]
    },
    {
     "name": "stderr",
     "output_type": "stream",
     "text": [
      "\n"
     ]
    }
   ],
   "source": [
    "spx.create_portfolios(beta_range=(-0.05, 0.05), sector_range=(-0.1,0.1), max_weight=0.025, log=False)"
   ]
  },
  {
   "cell_type": "code",
   "execution_count": 21,
   "metadata": {},
   "outputs": [],
   "source": [
    "spx.run_backtest()"
   ]
  },
  {
   "cell_type": "code",
   "execution_count": 27,
   "metadata": {},
   "outputs": [
    {
     "data": {
      "text/plain": [
       "<Axes: xlabel='date'>"
      ]
     },
     "execution_count": 27,
     "metadata": {},
     "output_type": "execute_result"
    },
    {
     "data": {
      "image/png": "[encoded data removed]",
      "text/plain": [
       "<Figure size 640x480 with 1 Axes>"
      ]
     },
     "metadata": {},
     "output_type": "display_data"
    }
   ],
   "source": [
    "spx.strategy_returns['2018':].mul(3).add(1).cumprod().plot()"
   ]
  },
  {
   "cell_type": "code",
   "execution_count": null,
   "metadata": {},
   "outputs": [
    {
     "name": "stdout",
     "output_type": "stream",
     "text": [
      "Solution Found!\n",
      "Solution Found!\n",
      "Solution Found!\n",
      "Solution Found!\n",
      "Solution Found!\n",
      "Solution Found!\n",
      "Solution Found!\n",
      "Solution Found!\n",
      "Solution Found!\n",
      "Solution Found!\n",
      "Solution Found!\n",
      "Solution Found!\n",
      "Solution Found!\n",
      "Solution Found!\n",
      "Solution Found!\n",
      "Solution Found!\n",
      "Solution Found!\n",
      "Solution Found!\n",
      "Solution Found!\n",
      "Solution Found!\n",
      "Solution Found!\n",
      "Solution Found!\n",
      "Solution Found!\n",
      "Solution Found!\n",
      "Solution Found!\n",
      "Solution Found!\n",
      "Solution Found!\n",
      "Solution Found!\n",
      "Solution Found!\n",
      "Solution Found!\n",
      "Solution Found!\n",
      "Solution Found!\n",
      "Solution Found!\n",
      "Solution Found!\n",
      "Solution Found!\n",
      "Failed for 2024-12-12 00:00:00. Potentially this is a future date Invalid dimensions (0,).\n"
     ]
    },
    {
     "data": {
      "text/plain": [
       "0.975932274023501"
      ]
     },
     "execution_count": 7,
     "metadata": {},
     "output_type": "execute_result"
    }
   ],
   "source": [
    "beta_limit = 0.05\n",
    "sector_limit = 0.05\n",
    "max_weight = 0.03\n",
    "\n",
    "spx.create_portfolios(beta_range=(-beta_limit,beta_limit),sector_range=(-sector_limit,sector_limit), max_weight=max_weight)\n",
    "spx.run_backtest()\n",
    "result = spx.cumulative_strategy_returns.iloc[-1]"
   ]
  },
  {
   "cell_type": "code",
   "execution_count": null,
   "metadata": {},
   "outputs": [],
   "source": []
  },
  {
   "cell_type": "code",
   "execution_count": null,
   "metadata": {},
   "outputs": [
    {
     "data": {
      "text/plain": [
       "<Axes: xlabel='date'>"
      ]
     },
     "execution_count": 5,
     "metadata": {},
     "output_type": "execute_result"
    },
    {
     "data": {
      "image/png": "[encoded data removed]",
      "text/plain": [
       "<Figure size 640x480 with 1 Axes>"
      ]
     },
     "metadata": {},
     "output_type": "display_data"
    }
   ],
   "source": []
  },
  {
   "cell_type": "code",
   "execution_count": 25,
   "metadata": {},
   "outputs": [],
   "source": [
    "daily_returns = spx.returns.fillna(0)\n",
    "schedule = spx.schedule\n",
    "optimized_portfolios = spx.optimized_portfolios"
   ]
  }
 ],
 "metadata": {
  "kernelspec": {
   "display_name": "qis",
   "language": "python",
   "name": "python3"
  },
  "language_info": {
   "codemirror_mode": {
    "name": "ipython",
    "version": 3
   },
   "file_extension": ".py",
   "mimetype": "text/x-python",
   "name": "python",
   "nbconvert_exporter": "python",
   "pygments_lexer": "ipython3",
   "version": "3.12.3"
  }
 },
 "nbformat": 4,
 "nbformat_minor": 2
}
