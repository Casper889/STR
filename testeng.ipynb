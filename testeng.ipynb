{
 "cells": [
  {
   "cell_type": "code",
   "execution_count": 1,
   "metadata": {},
   "outputs": [
    {
     "name": "stdout",
     "output_type": "stream",
     "text": [
      "(CVXPY) Nov 24 03:28:38 PM: Encountered unexpected exception importing solver OSQP:\n",
      "ImportError('DLL load failed while importing qdldl: The specified module could not be found.')\n",
      "This script pulls data from Bloomberg and saves it. Using this script often may result in hitting your data limit.\n",
      " When you are done using the script, make sure to delete any files saved. As we are not allowed to store Bloomberg data.\n"
     ]
    }
   ],
   "source": [
    "from STRRunner import STRRunner\n",
    "import pdblp\n",
    "import pandas as pd\n",
    "import pdblp\n",
    "spx = STRRunner(2016,2024, 'SPX Index')"
   ]
  },
  {
   "cell_type": "code",
   "execution_count": 15,
   "metadata": {},
   "outputs": [
    {
     "name": "stdout",
     "output_type": "stream",
     "text": [
      "Found a csv at SPX Index/constituents.csv not pulling again as you will DEFINITELY run out of data at some point. If you want to change. Run the reset() method\n",
      "Found a pickle at SPX Index/constituent_data.pkl not pulling again as you will DEFINITELY run out of data at some point. If you want to change. Run the reset() method\n",
      "Found a csv at SPX Index/prices.csv not pulling again as you will DEFINITELY run out of data at some point. If you want to change. Run the reset() method\n"
     ]
    }
   ],
   "source": [
    "spx.generate_schedule()\n",
    "spx.retrieve_index_constituents()\n",
    "spx.fetch_relevant_data()\n",
    "spx.fetch_prices()"
   ]
  },
  {
   "cell_type": "code",
   "execution_count": 16,
   "metadata": {},
   "outputs": [],
   "source": [
    "# Define ranges for grid search\n",
    "beta_limits = [0.05, 0.1]\n",
    "sector_limits = [0.05, 0.1, 0.2]\n",
    "max_weights = [0.02, 0.025, 0.03]\n",
    "log = [True, False]\n",
    "start = pd.to_datetime('2019-01-01')\n",
    "\n",
    "# Perform grid search\n",
    "#results = spx.grid_search(beta_limits, sector_limits, max_weights, log, start)"
   ]
  },
  {
   "cell_type": "code",
   "execution_count": 17,
   "metadata": {},
   "outputs": [
    {
     "name": "stderr",
     "output_type": "stream",
     "text": [
      "100%|██████████| 36/36 [00:01<00:00, 30.02it/s]"
     ]
    },
    {
     "name": "stdout",
     "output_type": "stream",
     "text": [
      "Failed for 2024-12-12 00:00:00. Potentially this is a future date Invalid dimensions (0,).\n"
     ]
    },
    {
     "name": "stderr",
     "output_type": "stream",
     "text": [
      "\n"
     ]
    }
   ],
   "source": [
    "# This seems like the best way to do this\n",
    "spx.create_portfolios(beta_range=(-0.05, 0.05), sector_range=(-0.1,0.1), max_weight=0.025, log=False)\n",
    "spx.run_backtest()"
   ]
  },
  {
   "cell_type": "code",
   "execution_count": 18,
   "metadata": {},
   "outputs": [
    {
     "data": {
      "text/plain": [
       "<Axes: xlabel='date'>"
      ]
     },
     "execution_count": 18,
     "metadata": {},
     "output_type": "execute_result"
    },
    {
     "data": {
      "image/png": "[encoded data removed]",
      "text/plain": [
       "<Figure size 640x480 with 1 Axes>"
      ]
     },
     "metadata": {},
     "output_type": "display_data"
    }
   ],
   "source": [
    "spx.strategy_returns.loc['2019':].mul(3).add(1).cumprod().plot()"
   ]
  },
  {
   "cell_type": "code",
   "execution_count": 3,
   "metadata": {},
   "outputs": [
    {
     "name": "stdout",
     "output_type": "stream",
     "text": [
      "This script pulls data from Bloomberg and saves it. Using this script often may result in hitting your data limit.\n",
      " When you are done using the script, make sure to delete any files saved. As we are not allowed to store Bloomberg data.\n",
      "Found a csv at MXEU Index/constituents.csv not pulling again as you will DEFINITELY run out of data at some point. If you want to change. Run the reset() method\n"
     ]
    },
    {
     "name": "stderr",
     "output_type": "stream",
     "text": [
      "24it [02:30,  6.28s/it]\n"
     ]
    },
    {
     "name": "stdout",
     "output_type": "stream",
     "text": [
      "Price data fetched successfully.\n"
     ]
    }
   ],
   "source": [
    "MXEU = STRRunner(2019,2024, 'MXEU Index')\n",
    "\n",
    "MXEU.generate_schedule()\n",
    "MXEU.retrieve_index_constituents()\n",
    "MXEU.fetch_relevant_data()\n",
    "MXEU.fetch_prices()"
   ]
  },
  {
   "cell_type": "code",
   "execution_count": 4,
   "metadata": {},
   "outputs": [
    {
     "name": "stdout",
     "output_type": "stream",
     "text": [
      "This script pulls data from Bloomberg and saves it. Using this script often may result in hitting your data limit.\n",
      " When you are done using the script, make sure to delete any files saved. As we are not allowed to store Bloomberg data.\n",
      "Found a csv at SXXP Index/constituents.csv not pulling again as you will DEFINITELY run out of data at some point. If you want to change. Run the reset() method\n"
     ]
    },
    {
     "name": "stderr",
     "output_type": "stream",
     "text": [
      "0it [00:00, ?it/s]\n"
     ]
    },
    {
     "ename": "TypeError",
     "evalue": "string indices must be integers, not 'str'",
     "output_type": "error",
     "traceback": [
      "\u001b[1;31m---------------------------------------------------------------------------\u001b[0m",
      "\u001b[1;31mTypeError\u001b[0m                                 Traceback (most recent call last)",
      "Cell \u001b[1;32mIn[4], line 5\u001b[0m\n\u001b[0;32m      3\u001b[0m SXXP\u001b[38;5;241m.\u001b[39mgenerate_schedule()\n\u001b[0;32m      4\u001b[0m SXXP\u001b[38;5;241m.\u001b[39mretrieve_index_constituents()\n\u001b[1;32m----> 5\u001b[0m \u001b[43mSXXP\u001b[49m\u001b[38;5;241;43m.\u001b[39;49m\u001b[43mfetch_relevant_data\u001b[49m\u001b[43m(\u001b[49m\u001b[43m)\u001b[49m\n\u001b[0;32m      6\u001b[0m SXXP\u001b[38;5;241m.\u001b[39mfetch_prices()\n",
      "File \u001b[1;32mc:\\Users\\caspe\\Nextcloud\\Random_Code\\STR\\STRRunner.py:105\u001b[0m, in \u001b[0;36mSTRRunner.fetch_relevant_data\u001b[1;34m(self)\u001b[0m\n\u001b[0;32m    100\u001b[0m \u001b[38;5;66;03m# Overrides for custom start and end dates\u001b[39;00m\n\u001b[0;32m    101\u001b[0m overrides \u001b[38;5;241m=\u001b[39m [\n\u001b[0;32m    102\u001b[0m     (\u001b[38;5;124m\"\u001b[39m\u001b[38;5;124mBETA_OVERRIDE_END_DT\u001b[39m\u001b[38;5;124m\"\u001b[39m, date\u001b[38;5;241m.\u001b[39mstrftime(\u001b[38;5;124m'\u001b[39m\u001b[38;5;124m%\u001b[39m\u001b[38;5;124mY\u001b[39m\u001b[38;5;124m%\u001b[39m\u001b[38;5;124mm\u001b[39m\u001b[38;5;132;01m%d\u001b[39;00m\u001b[38;5;124m'\u001b[39m)),    \u001b[38;5;66;03m# End date\u001b[39;00m\n\u001b[0;32m    103\u001b[0m     (\u001b[38;5;124m\"\u001b[39m\u001b[38;5;124mBETA_OVERRIDE_START_DT\u001b[39m\u001b[38;5;124m\"\u001b[39m, (date \u001b[38;5;241m-\u001b[39m timedelta(days\u001b[38;5;241m=\u001b[39m\u001b[38;5;241m756\u001b[39m))\u001b[38;5;241m.\u001b[39mstrftime(\u001b[38;5;124m'\u001b[39m\u001b[38;5;124m%\u001b[39m\u001b[38;5;124mY\u001b[39m\u001b[38;5;124m%\u001b[39m\u001b[38;5;124mm\u001b[39m\u001b[38;5;132;01m%d\u001b[39;00m\u001b[38;5;124m'\u001b[39m))\n\u001b[0;32m    104\u001b[0m ]\n\u001b[1;32m--> 105\u001b[0m df \u001b[38;5;241m=\u001b[39m \u001b[43mfetch_historical_data\u001b[49m\u001b[43m(\u001b[49m\u001b[43mtickers\u001b[49m\u001b[43m,\u001b[49m\u001b[43m \u001b[49m\u001b[43mfields\u001b[49m\u001b[43m,\u001b[49m\u001b[43m \u001b[49m\u001b[43moverrides\u001b[49m\u001b[43m)\u001b[49m\n\u001b[0;32m    107\u001b[0m fields \u001b[38;5;241m=\u001b[39m \u001b[38;5;124m\"\u001b[39m\u001b[38;5;124mTURNOVER\u001b[39m\u001b[38;5;124m\"\u001b[39m\n\u001b[0;32m    109\u001b[0m \u001b[38;5;66;03m# Overrides for custom start and end dates\u001b[39;00m\n",
      "File \u001b[1;32mc:\\Users\\caspe\\Nextcloud\\Random_Code\\STR\\get_relevant_data.py:40\u001b[0m, in \u001b[0;36mfetch_historical_data\u001b[1;34m(tickers, fields, overrides)\u001b[0m\n\u001b[0;32m     37\u001b[0m con\u001b[38;5;241m.\u001b[39mstart()\n\u001b[0;32m     39\u001b[0m \u001b[38;5;66;03m# Fetch data for all tickers on the specific date\u001b[39;00m\n\u001b[1;32m---> 40\u001b[0m data \u001b[38;5;241m=\u001b[39m \u001b[43mcon\u001b[49m\u001b[38;5;241;43m.\u001b[39;49m\u001b[43mref\u001b[49m\u001b[43m(\u001b[49m\n\u001b[0;32m     41\u001b[0m \u001b[43m    \u001b[49m\u001b[43m[\u001b[49m\u001b[43mticker\u001b[49m\u001b[43m \u001b[49m\u001b[38;5;241;43m+\u001b[39;49m\u001b[38;5;124;43m'\u001b[39;49m\u001b[38;5;124;43m Equity\u001b[39;49m\u001b[38;5;124;43m'\u001b[39;49m\u001b[43m \u001b[49m\u001b[38;5;28;43;01mfor\u001b[39;49;00m\u001b[43m \u001b[49m\u001b[43mticker\u001b[49m\u001b[43m \u001b[49m\u001b[38;5;129;43;01min\u001b[39;49;00m\u001b[43m \u001b[49m\u001b[43mtickers\u001b[49m\u001b[43m]\u001b[49m\u001b[43m,\u001b[49m\n\u001b[0;32m     42\u001b[0m \u001b[43m    \u001b[49m\u001b[43mfields\u001b[49m\u001b[43m,\u001b[49m\n\u001b[0;32m     43\u001b[0m \u001b[43m    \u001b[49m\u001b[43moverrides\u001b[49m\n\u001b[0;32m     44\u001b[0m \u001b[43m\u001b[49m\u001b[43m)\u001b[49m\n\u001b[0;32m     46\u001b[0m \u001b[38;5;28;01mreturn\u001b[39;00m reformat_dataframe(data)\n",
      "File \u001b[1;32mc:\\Users\\caspe\\miniconda3\\envs\\qis\\Lib\\site-packages\\pdblp\\pdblp.py:364\u001b[0m, in \u001b[0;36mBCon.ref\u001b[1;34m(self, tickers, flds, ovrds)\u001b[0m\n\u001b[0;32m    362\u001b[0m logger\u001b[38;5;241m.\u001b[39minfo(\u001b[38;5;124m'\u001b[39m\u001b[38;5;124mSending Request:\u001b[39m\u001b[38;5;130;01m\\n\u001b[39;00m\u001b[38;5;132;01m{}\u001b[39;00m\u001b[38;5;124m'\u001b[39m\u001b[38;5;241m.\u001b[39mformat(request))\n\u001b[0;32m    363\u001b[0m \u001b[38;5;28mself\u001b[39m\u001b[38;5;241m.\u001b[39m_session\u001b[38;5;241m.\u001b[39msendRequest(request, identity\u001b[38;5;241m=\u001b[39m\u001b[38;5;28mself\u001b[39m\u001b[38;5;241m.\u001b[39m_identity)\n\u001b[1;32m--> 364\u001b[0m data \u001b[38;5;241m=\u001b[39m \u001b[38;5;28;43mself\u001b[39;49m\u001b[38;5;241;43m.\u001b[39;49m\u001b[43m_parse_ref\u001b[49m\u001b[43m(\u001b[49m\u001b[43mflds\u001b[49m\u001b[43m)\u001b[49m\n\u001b[0;32m    365\u001b[0m data \u001b[38;5;241m=\u001b[39m pd\u001b[38;5;241m.\u001b[39mDataFrame(data)\n\u001b[0;32m    366\u001b[0m data\u001b[38;5;241m.\u001b[39mcolumns \u001b[38;5;241m=\u001b[39m [\u001b[38;5;124m'\u001b[39m\u001b[38;5;124mticker\u001b[39m\u001b[38;5;124m'\u001b[39m, \u001b[38;5;124m'\u001b[39m\u001b[38;5;124mfield\u001b[39m\u001b[38;5;124m'\u001b[39m, \u001b[38;5;124m'\u001b[39m\u001b[38;5;124mvalue\u001b[39m\u001b[38;5;124m'\u001b[39m]\n",
      "File \u001b[1;32mc:\\Users\\caspe\\miniconda3\\envs\\qis\\Lib\\site-packages\\pdblp\\pdblp.py:379\u001b[0m, in \u001b[0;36mBCon._parse_ref\u001b[1;34m(self, flds, keep_corrId, sent_events)\u001b[0m\n\u001b[0;32m    377\u001b[0m d \u001b[38;5;241m=\u001b[39m msg[\u001b[38;5;124m'\u001b[39m\u001b[38;5;124melement\u001b[39m\u001b[38;5;124m'\u001b[39m][\u001b[38;5;124m'\u001b[39m\u001b[38;5;124mReferenceDataResponse\u001b[39m\u001b[38;5;124m'\u001b[39m]\n\u001b[0;32m    378\u001b[0m \u001b[38;5;28;01mfor\u001b[39;00m security_data_dict \u001b[38;5;129;01min\u001b[39;00m d:\n\u001b[1;32m--> 379\u001b[0m     secData \u001b[38;5;241m=\u001b[39m \u001b[43msecurity_data_dict\u001b[49m\u001b[43m[\u001b[49m\u001b[38;5;124;43m'\u001b[39;49m\u001b[38;5;124;43msecurityData\u001b[39;49m\u001b[38;5;124;43m'\u001b[39;49m\u001b[43m]\u001b[49m\n\u001b[0;32m    380\u001b[0m     ticker \u001b[38;5;241m=\u001b[39m secData[\u001b[38;5;124m'\u001b[39m\u001b[38;5;124msecurity\u001b[39m\u001b[38;5;124m'\u001b[39m]\n\u001b[0;32m    381\u001b[0m     \u001b[38;5;28;01mif\u001b[39;00m \u001b[38;5;124m'\u001b[39m\u001b[38;5;124msecurityError\u001b[39m\u001b[38;5;124m'\u001b[39m \u001b[38;5;129;01min\u001b[39;00m secData:\n",
      "\u001b[1;31mTypeError\u001b[0m: string indices must be integers, not 'str'"
     ]
    }
   ],
   "source": [
    "SXXP = STRRunner(2019,2024, 'SXXP Index')\n",
    "\n",
    "SXXP.generate_schedule()\n",
    "SXXP.retrieve_index_constituents()\n",
    "SXXP.fetch_relevant_data()\n",
    "SXXP.fetch_prices()"
   ]
  },
  {
   "cell_type": "code",
   "execution_count": 5,
   "metadata": {},
   "outputs": [
    {
     "name": "stdout",
     "output_type": "stream",
     "text": [
      "This script pulls data from Bloomberg and saves it. Using this script often may result in hitting your data limit.\n",
      " When you are done using the script, make sure to delete any files saved. As we are not allowed to store Bloomberg data.\n"
     ]
    },
    {
     "name": "stderr",
     "output_type": "stream",
     "text": [
      "0it [00:00, ?it/s]\n"
     ]
    },
    {
     "ename": "TypeError",
     "evalue": "string indices must be integers, not 'str'",
     "output_type": "error",
     "traceback": [
      "\u001b[1;31m---------------------------------------------------------------------------\u001b[0m",
      "\u001b[1;31mTypeError\u001b[0m                                 Traceback (most recent call last)",
      "Cell \u001b[1;32mIn[5], line 4\u001b[0m\n\u001b[0;32m      1\u001b[0m FTSE \u001b[38;5;241m=\u001b[39m STRRunner(\u001b[38;5;241m2019\u001b[39m,\u001b[38;5;241m2024\u001b[39m, \u001b[38;5;124m'\u001b[39m\u001b[38;5;124mUKX Index\u001b[39m\u001b[38;5;124m'\u001b[39m)\n\u001b[0;32m      3\u001b[0m FTSE\u001b[38;5;241m.\u001b[39mgenerate_schedule()\n\u001b[1;32m----> 4\u001b[0m \u001b[43mFTSE\u001b[49m\u001b[38;5;241;43m.\u001b[39;49m\u001b[43mretrieve_index_constituents\u001b[49m\u001b[43m(\u001b[49m\u001b[43m)\u001b[49m\n\u001b[0;32m      5\u001b[0m FTSE\u001b[38;5;241m.\u001b[39mfetch_relevant_data()\n\u001b[0;32m      6\u001b[0m FTSE\u001b[38;5;241m.\u001b[39mfetch_prices()\n",
      "File \u001b[1;32mc:\\Users\\caspe\\Nextcloud\\Random_Code\\STR\\STRRunner.py:68\u001b[0m, in \u001b[0;36mSTRRunner.retrieve_index_constituents\u001b[1;34m(self)\u001b[0m\n\u001b[0;32m     66\u001b[0m \u001b[38;5;28;01mfor\u001b[39;00m _, row \u001b[38;5;129;01min\u001b[39;00m tqdm(\u001b[38;5;28mself\u001b[39m\u001b[38;5;241m.\u001b[39mschedule\u001b[38;5;241m.\u001b[39miterrows()):\n\u001b[0;32m     67\u001b[0m     date \u001b[38;5;241m=\u001b[39m row[\u001b[38;5;124m\"\u001b[39m\u001b[38;5;124mThird-to-Last Thursday\u001b[39m\u001b[38;5;124m\"\u001b[39m]\u001b[38;5;241m.\u001b[39mstrftime(\u001b[38;5;124m'\u001b[39m\u001b[38;5;124m%\u001b[39m\u001b[38;5;124mY\u001b[39m\u001b[38;5;124m%\u001b[39m\u001b[38;5;124mm\u001b[39m\u001b[38;5;132;01m%d\u001b[39;00m\u001b[38;5;124m'\u001b[39m)\n\u001b[1;32m---> 68\u001b[0m     constituents \u001b[38;5;241m=\u001b[39m \u001b[43mget_index_members\u001b[49m\u001b[43m(\u001b[49m\u001b[38;5;28;43mself\u001b[39;49m\u001b[38;5;241;43m.\u001b[39;49m\u001b[43mindex_ticker\u001b[49m\u001b[43m,\u001b[49m\u001b[43m \u001b[49m\u001b[43mdate\u001b[49m\u001b[43m)\u001b[49m\n\u001b[0;32m     69\u001b[0m     \u001b[38;5;28mself\u001b[39m\u001b[38;5;241m.\u001b[39mconstituents[pd\u001b[38;5;241m.\u001b[39mto_datetime(date)] \u001b[38;5;241m=\u001b[39m transform_index_data(constituents)\n\u001b[0;32m     71\u001b[0m \u001b[38;5;28mself\u001b[39m\u001b[38;5;241m.\u001b[39mconstituents \u001b[38;5;241m=\u001b[39m pd\u001b[38;5;241m.\u001b[39mDataFrame(\u001b[38;5;28mself\u001b[39m\u001b[38;5;241m.\u001b[39mconstituents)\u001b[38;5;241m.\u001b[39mT\n",
      "File \u001b[1;32mc:\\Users\\caspe\\Nextcloud\\Random_Code\\STR\\get_index_members.py:41\u001b[0m, in \u001b[0;36mget_index_members\u001b[1;34m(index_ticker, override_date)\u001b[0m\n\u001b[0;32m     38\u001b[0m con\u001b[38;5;241m.\u001b[39mstart()\n\u001b[0;32m     40\u001b[0m \u001b[38;5;66;03m# Fetch index members and weights using `bds`\u001b[39;00m\n\u001b[1;32m---> 41\u001b[0m members \u001b[38;5;241m=\u001b[39m \u001b[43mcon\u001b[49m\u001b[38;5;241;43m.\u001b[39;49m\u001b[43mbulkref\u001b[49m\u001b[43m(\u001b[49m\u001b[43mindex_ticker\u001b[49m\u001b[43m,\u001b[49m\u001b[43m \u001b[49m\u001b[38;5;124;43m\"\u001b[39;49m\u001b[38;5;124;43mINDX_MWEIGHT\u001b[39;49m\u001b[38;5;124;43m\"\u001b[39;49m\u001b[43m,\u001b[49m\u001b[43m \u001b[49m\u001b[43m[\u001b[49m\u001b[43m(\u001b[49m\u001b[38;5;124;43m'\u001b[39;49m\u001b[38;5;124;43mEND_DATE_OVERRIDE\u001b[39;49m\u001b[38;5;124;43m'\u001b[39;49m\u001b[43m,\u001b[49m\u001b[43m \u001b[49m\u001b[43moverride_date\u001b[49m\u001b[43m)\u001b[49m\u001b[43m]\u001b[49m\u001b[43m)\u001b[49m\n\u001b[0;32m     43\u001b[0m \u001b[38;5;28;01mif\u001b[39;00m members\u001b[38;5;241m.\u001b[39mempty:\n\u001b[0;32m     44\u001b[0m     \u001b[38;5;28mprint\u001b[39m(\u001b[38;5;124mf\u001b[39m\u001b[38;5;124m\"\u001b[39m\u001b[38;5;124mNo data found for \u001b[39m\u001b[38;5;132;01m{\u001b[39;00mindex_ticker\u001b[38;5;132;01m}\u001b[39;00m\u001b[38;5;124m on \u001b[39m\u001b[38;5;132;01m{\u001b[39;00moverride_date\u001b[38;5;132;01m}\u001b[39;00m\u001b[38;5;124m\"\u001b[39m)\n",
      "File \u001b[1;32mc:\\Users\\caspe\\miniconda3\\envs\\qis\\Lib\\site-packages\\pdblp\\pdblp.py:466\u001b[0m, in \u001b[0;36mBCon.bulkref\u001b[1;34m(self, tickers, flds, ovrds)\u001b[0m\n\u001b[0;32m    464\u001b[0m logger\u001b[38;5;241m.\u001b[39minfo(\u001b[38;5;124m'\u001b[39m\u001b[38;5;124mSending Request:\u001b[39m\u001b[38;5;130;01m\\n\u001b[39;00m\u001b[38;5;132;01m{}\u001b[39;00m\u001b[38;5;124m'\u001b[39m\u001b[38;5;241m.\u001b[39mformat(request))\n\u001b[0;32m    465\u001b[0m \u001b[38;5;28mself\u001b[39m\u001b[38;5;241m.\u001b[39m_session\u001b[38;5;241m.\u001b[39msendRequest(request, identity\u001b[38;5;241m=\u001b[39m\u001b[38;5;28mself\u001b[39m\u001b[38;5;241m.\u001b[39m_identity)\n\u001b[1;32m--> 466\u001b[0m data \u001b[38;5;241m=\u001b[39m \u001b[38;5;28;43mself\u001b[39;49m\u001b[38;5;241;43m.\u001b[39;49m\u001b[43m_parse_bulkref\u001b[49m\u001b[43m(\u001b[49m\u001b[43mflds\u001b[49m\u001b[43m)\u001b[49m\n\u001b[0;32m    467\u001b[0m data \u001b[38;5;241m=\u001b[39m pd\u001b[38;5;241m.\u001b[39mDataFrame(data)\n\u001b[0;32m    468\u001b[0m data\u001b[38;5;241m.\u001b[39mcolumns \u001b[38;5;241m=\u001b[39m [\u001b[38;5;124m'\u001b[39m\u001b[38;5;124mticker\u001b[39m\u001b[38;5;124m'\u001b[39m, \u001b[38;5;124m'\u001b[39m\u001b[38;5;124mfield\u001b[39m\u001b[38;5;124m'\u001b[39m, \u001b[38;5;124m'\u001b[39m\u001b[38;5;124mname\u001b[39m\u001b[38;5;124m'\u001b[39m, \u001b[38;5;124m'\u001b[39m\u001b[38;5;124mvalue\u001b[39m\u001b[38;5;124m'\u001b[39m, \u001b[38;5;124m'\u001b[39m\u001b[38;5;124mposition\u001b[39m\u001b[38;5;124m'\u001b[39m]\n",
      "File \u001b[1;32mc:\\Users\\caspe\\miniconda3\\envs\\qis\\Lib\\site-packages\\pdblp\\pdblp.py:481\u001b[0m, in \u001b[0;36mBCon._parse_bulkref\u001b[1;34m(self, flds, keep_corrId, sent_events)\u001b[0m\n\u001b[0;32m    479\u001b[0m d \u001b[38;5;241m=\u001b[39m msg[\u001b[38;5;124m'\u001b[39m\u001b[38;5;124melement\u001b[39m\u001b[38;5;124m'\u001b[39m][\u001b[38;5;124m'\u001b[39m\u001b[38;5;124mReferenceDataResponse\u001b[39m\u001b[38;5;124m'\u001b[39m]\n\u001b[0;32m    480\u001b[0m \u001b[38;5;28;01mfor\u001b[39;00m security_data_dict \u001b[38;5;129;01min\u001b[39;00m d:\n\u001b[1;32m--> 481\u001b[0m     secData \u001b[38;5;241m=\u001b[39m \u001b[43msecurity_data_dict\u001b[49m\u001b[43m[\u001b[49m\u001b[38;5;124;43m'\u001b[39;49m\u001b[38;5;124;43msecurityData\u001b[39;49m\u001b[38;5;124;43m'\u001b[39;49m\u001b[43m]\u001b[49m\n\u001b[0;32m    482\u001b[0m     ticker \u001b[38;5;241m=\u001b[39m secData[\u001b[38;5;124m'\u001b[39m\u001b[38;5;124msecurity\u001b[39m\u001b[38;5;124m'\u001b[39m]\n\u001b[0;32m    483\u001b[0m     \u001b[38;5;28;01mif\u001b[39;00m \u001b[38;5;124m'\u001b[39m\u001b[38;5;124msecurityError\u001b[39m\u001b[38;5;124m'\u001b[39m \u001b[38;5;129;01min\u001b[39;00m secData:\n",
      "\u001b[1;31mTypeError\u001b[0m: string indices must be integers, not 'str'"
     ]
    }
   ],
   "source": [
    "FTSE = STRRunner(2019,2024, 'UKX Index')\n",
    "\n",
    "FTSE.generate_schedule()\n",
    "FTSE.retrieve_index_constituents()\n",
    "FTSE.fetch_relevant_data()\n",
    "FTSE.fetch_prices()"
   ]
  },
  {
   "cell_type": "code",
   "execution_count": null,
   "metadata": {},
   "outputs": [
    {
     "name": "stderr",
     "output_type": "stream",
     "text": [
      "100%|██████████| 24/24 [00:00<00:00, 52.97it/s]"
     ]
    },
    {
     "name": "stdout",
     "output_type": "stream",
     "text": [
      "Failed for 2024-12-12 00:00:00. Potentially this is a future date Invalid dimensions (0,).\n"
     ]
    },
    {
     "name": "stderr",
     "output_type": "stream",
     "text": [
      "\n"
     ]
    }
   ],
   "source": [
    "# This seems like the best way to do this\n",
    "FTSE.create_portfolios(beta_range=(-0.05, 0.05), sector_range=(-0.1,0.1), max_weight=0.05, log=True)\n",
    "FTSE.run_backtest()"
   ]
  },
  {
   "cell_type": "code",
   "execution_count": 6,
   "metadata": {},
   "outputs": [
    {
     "data": {
      "text/plain": [
       "<Axes: xlabel='date'>"
      ]
     },
     "execution_count": 6,
     "metadata": {},
     "output_type": "execute_result"
    },
    {
     "data": {
      "image/png": "[encoded data removed]",
      "text/plain": [
       "<Figure size 640x480 with 1 Axes>"
      ]
     },
     "metadata": {},
     "output_type": "display_data"
    }
   ],
   "source": [
    "SX5E.cumulative_strategy_returns.plot()"
   ]
  },
  {
   "cell_type": "code",
   "execution_count": null,
   "metadata": {},
   "outputs": [
    {
     "name": "stdout",
     "output_type": "stream",
     "text": [
      "Testing: beta_limit=0.05, sector_limit=0.05, max_weight=0.01, log=True\n"
     ]
    },
    {
     "name": "stderr",
     "output_type": "stream",
     "text": [
      "100%|██████████| 24/24 [00:00<00:00, 30.89it/s]\n"
     ]
    },
    {
     "name": "stdout",
     "output_type": "stream",
     "text": [
      "Failed for 2024-12-12 00:00:00. Potentially this is a future date Invalid dimensions (0,).\n",
      "Result: -0.015186453592310845\n",
      "Testing: beta_limit=0.05, sector_limit=0.05, max_weight=0.01, log=False\n"
     ]
    },
    {
     "name": "stderr",
     "output_type": "stream",
     "text": [
      "100%|██████████| 24/24 [00:00<00:00, 30.86it/s]\n"
     ]
    },
    {
     "name": "stdout",
     "output_type": "stream",
     "text": [
      "Failed for 2024-12-12 00:00:00. Potentially this is a future date Invalid dimensions (0,).\n",
      "Result: -0.20603924827064377\n",
      "Testing: beta_limit=0.05, sector_limit=0.05, max_weight=0.03, log=True\n"
     ]
    },
    {
     "name": "stderr",
     "output_type": "stream",
     "text": [
      "100%|██████████| 24/24 [00:03<00:00,  7.44it/s]\n"
     ]
    },
    {
     "name": "stdout",
     "output_type": "stream",
     "text": [
      "Failed for 2024-12-12 00:00:00. Potentially this is a future date Invalid dimensions (0,).\n",
      "Result: -0.24753783728001474\n",
      "Testing: beta_limit=0.05, sector_limit=0.05, max_weight=0.03, log=False\n"
     ]
    },
    {
     "name": "stderr",
     "output_type": "stream",
     "text": [
      "100%|██████████| 24/24 [00:03<00:00,  6.28it/s]\n"
     ]
    },
    {
     "name": "stdout",
     "output_type": "stream",
     "text": [
      "Failed for 2024-12-12 00:00:00. Potentially this is a future date Invalid dimensions (0,).\n",
      "Result: -0.2727961638634252\n",
      "Testing: beta_limit=0.05, sector_limit=0.05, max_weight=0.02, log=True\n"
     ]
    },
    {
     "name": "stderr",
     "output_type": "stream",
     "text": [
      "100%|██████████| 24/24 [00:03<00:00,  7.70it/s]\n"
     ]
    },
    {
     "name": "stdout",
     "output_type": "stream",
     "text": [
      "Failed for 2024-12-12 00:00:00. Potentially this is a future date Invalid dimensions (0,).\n",
      "Result: -0.22995742306484962\n",
      "Testing: beta_limit=0.05, sector_limit=0.05, max_weight=0.02, log=False\n"
     ]
    },
    {
     "name": "stderr",
     "output_type": "stream",
     "text": [
      "100%|██████████| 24/24 [00:02<00:00,  8.38it/s]\n"
     ]
    },
    {
     "name": "stdout",
     "output_type": "stream",
     "text": [
      "Failed for 2024-12-12 00:00:00. Potentially this is a future date Invalid dimensions (0,).\n",
      "Result: -0.49307968741096275\n",
      "Testing: beta_limit=0.05, sector_limit=0.1, max_weight=0.01, log=True\n"
     ]
    },
    {
     "name": "stderr",
     "output_type": "stream",
     "text": [
      "100%|██████████| 24/24 [00:00<00:00, 29.73it/s]\n"
     ]
    },
    {
     "name": "stdout",
     "output_type": "stream",
     "text": [
      "Failed for 2024-12-12 00:00:00. Potentially this is a future date Invalid dimensions (0,).\n",
      "Result: 0.17249422231339245\n",
      "Testing: beta_limit=0.05, sector_limit=0.1, max_weight=0.01, log=False\n"
     ]
    },
    {
     "name": "stderr",
     "output_type": "stream",
     "text": [
      "100%|██████████| 24/24 [00:00<00:00, 31.84it/s]\n"
     ]
    },
    {
     "name": "stdout",
     "output_type": "stream",
     "text": [
      "Failed for 2024-12-12 00:00:00. Potentially this is a future date Invalid dimensions (0,).\n",
      "Result: 0.0018846522228196244\n",
      "Testing: beta_limit=0.05, sector_limit=0.1, max_weight=0.03, log=True\n"
     ]
    },
    {
     "name": "stderr",
     "output_type": "stream",
     "text": [
      "100%|██████████| 24/24 [00:01<00:00, 12.39it/s]\n"
     ]
    },
    {
     "name": "stdout",
     "output_type": "stream",
     "text": [
      "Failed for 2024-12-12 00:00:00. Potentially this is a future date Invalid dimensions (0,).\n",
      "Result: -0.11850062905134584\n",
      "Testing: beta_limit=0.05, sector_limit=0.1, max_weight=0.03, log=False\n"
     ]
    },
    {
     "name": "stderr",
     "output_type": "stream",
     "text": [
      "100%|██████████| 24/24 [00:01<00:00, 20.13it/s]\n"
     ]
    },
    {
     "name": "stdout",
     "output_type": "stream",
     "text": [
      "Failed for 2024-12-12 00:00:00. Potentially this is a future date Invalid dimensions (0,).\n",
      "Result: -0.24039362000327685\n",
      "Testing: beta_limit=0.05, sector_limit=0.1, max_weight=0.02, log=True\n"
     ]
    },
    {
     "name": "stderr",
     "output_type": "stream",
     "text": [
      "100%|██████████| 24/24 [00:00<00:00, 27.86it/s]\n"
     ]
    },
    {
     "name": "stdout",
     "output_type": "stream",
     "text": [
      "Failed for 2024-12-12 00:00:00. Potentially this is a future date Invalid dimensions (0,).\n",
      "Result: -0.268107937419888\n",
      "Testing: beta_limit=0.05, sector_limit=0.1, max_weight=0.02, log=False\n"
     ]
    },
    {
     "name": "stderr",
     "output_type": "stream",
     "text": [
      "100%|██████████| 24/24 [00:00<00:00, 31.93it/s]\n"
     ]
    },
    {
     "name": "stdout",
     "output_type": "stream",
     "text": [
      "Failed for 2024-12-12 00:00:00. Potentially this is a future date Invalid dimensions (0,).\n",
      "Result: -0.45150580043709204\n",
      "Testing: beta_limit=0.05, sector_limit=0.2, max_weight=0.01, log=True\n"
     ]
    },
    {
     "name": "stderr",
     "output_type": "stream",
     "text": [
      "100%|██████████| 24/24 [00:00<00:00, 31.19it/s]\n"
     ]
    },
    {
     "name": "stdout",
     "output_type": "stream",
     "text": [
      "Failed for 2024-12-12 00:00:00. Potentially this is a future date Invalid dimensions (0,).\n",
      "Result: 0.03853406077357502\n",
      "Testing: beta_limit=0.05, sector_limit=0.2, max_weight=0.01, log=False\n"
     ]
    },
    {
     "name": "stderr",
     "output_type": "stream",
     "text": [
      "100%|██████████| 24/24 [00:00<00:00, 31.12it/s]\n"
     ]
    },
    {
     "name": "stdout",
     "output_type": "stream",
     "text": [
      "Failed for 2024-12-12 00:00:00. Potentially this is a future date Invalid dimensions (0,).\n",
      "Result: -0.042199531333584166\n",
      "Testing: beta_limit=0.05, sector_limit=0.2, max_weight=0.03, log=True\n"
     ]
    },
    {
     "name": "stderr",
     "output_type": "stream",
     "text": [
      "100%|██████████| 24/24 [00:01<00:00, 18.32it/s]\n"
     ]
    },
    {
     "name": "stdout",
     "output_type": "stream",
     "text": [
      "Failed for 2024-12-12 00:00:00. Potentially this is a future date Invalid dimensions (0,).\n",
      "Result: 0.05589010756688617\n",
      "Testing: beta_limit=0.05, sector_limit=0.2, max_weight=0.03, log=False\n"
     ]
    },
    {
     "name": "stderr",
     "output_type": "stream",
     "text": [
      "100%|██████████| 24/24 [00:01<00:00, 22.36it/s]\n"
     ]
    },
    {
     "name": "stdout",
     "output_type": "stream",
     "text": [
      "Failed for 2024-12-12 00:00:00. Potentially this is a future date Invalid dimensions (0,).\n",
      "Result: -0.36244215351041575\n",
      "Testing: beta_limit=0.05, sector_limit=0.2, max_weight=0.02, log=True\n"
     ]
    },
    {
     "name": "stderr",
     "output_type": "stream",
     "text": [
      "100%|██████████| 24/24 [00:00<00:00, 26.83it/s]\n"
     ]
    },
    {
     "name": "stdout",
     "output_type": "stream",
     "text": [
      "Failed for 2024-12-12 00:00:00. Potentially this is a future date Invalid dimensions (0,).\n",
      "Result: -0.15428728207964434\n",
      "Testing: beta_limit=0.05, sector_limit=0.2, max_weight=0.02, log=False\n"
     ]
    },
    {
     "name": "stderr",
     "output_type": "stream",
     "text": [
      "100%|██████████| 24/24 [00:00<00:00, 31.56it/s]\n"
     ]
    },
    {
     "name": "stdout",
     "output_type": "stream",
     "text": [
      "Failed for 2024-12-12 00:00:00. Potentially this is a future date Invalid dimensions (0,).\n",
      "Result: -0.5572752825135574\n",
      "Testing: beta_limit=0.1, sector_limit=0.05, max_weight=0.01, log=True\n"
     ]
    },
    {
     "name": "stderr",
     "output_type": "stream",
     "text": [
      "100%|██████████| 24/24 [00:01<00:00, 23.73it/s]\n"
     ]
    },
    {
     "name": "stdout",
     "output_type": "stream",
     "text": [
      "Failed for 2024-12-12 00:00:00. Potentially this is a future date Invalid dimensions (0,).\n",
      "Result: 0.1027690553433822\n",
      "Testing: beta_limit=0.1, sector_limit=0.05, max_weight=0.01, log=False\n"
     ]
    },
    {
     "name": "stderr",
     "output_type": "stream",
     "text": [
      "100%|██████████| 24/24 [00:00<00:00, 28.92it/s]\n"
     ]
    },
    {
     "name": "stdout",
     "output_type": "stream",
     "text": [
      "Failed for 2024-12-12 00:00:00. Potentially this is a future date Invalid dimensions (0,).\n",
      "Result: -0.08809469629024426\n",
      "Testing: beta_limit=0.1, sector_limit=0.05, max_weight=0.03, log=True\n"
     ]
    },
    {
     "name": "stderr",
     "output_type": "stream",
     "text": [
      "100%|██████████| 24/24 [00:03<00:00,  7.28it/s]\n"
     ]
    },
    {
     "name": "stdout",
     "output_type": "stream",
     "text": [
      "Failed for 2024-12-12 00:00:00. Potentially this is a future date Invalid dimensions (0,).\n",
      "Result: -0.26384458332205984\n",
      "Testing: beta_limit=0.1, sector_limit=0.05, max_weight=0.03, log=False\n"
     ]
    },
    {
     "name": "stderr",
     "output_type": "stream",
     "text": [
      "100%|██████████| 24/24 [00:03<00:00,  6.59it/s]\n"
     ]
    },
    {
     "name": "stdout",
     "output_type": "stream",
     "text": [
      "Failed for 2024-12-12 00:00:00. Potentially this is a future date Invalid dimensions (0,).\n",
      "Result: -0.2880546954384987\n",
      "Testing: beta_limit=0.1, sector_limit=0.05, max_weight=0.02, log=True\n"
     ]
    },
    {
     "name": "stderr",
     "output_type": "stream",
     "text": [
      "100%|██████████| 24/24 [00:02<00:00,  8.33it/s]\n"
     ]
    },
    {
     "name": "stdout",
     "output_type": "stream",
     "text": [
      "Failed for 2024-12-12 00:00:00. Potentially this is a future date Invalid dimensions (0,).\n",
      "Result: -0.26479999826156164\n",
      "Testing: beta_limit=0.1, sector_limit=0.05, max_weight=0.02, log=False\n"
     ]
    },
    {
     "name": "stderr",
     "output_type": "stream",
     "text": [
      "100%|██████████| 24/24 [00:03<00:00,  7.81it/s]\n"
     ]
    },
    {
     "name": "stdout",
     "output_type": "stream",
     "text": [
      "Failed for 2024-12-12 00:00:00. Potentially this is a future date Invalid dimensions (0,).\n",
      "Result: -0.4786334780472862\n",
      "Testing: beta_limit=0.1, sector_limit=0.1, max_weight=0.01, log=True\n"
     ]
    },
    {
     "name": "stderr",
     "output_type": "stream",
     "text": [
      "100%|██████████| 24/24 [00:00<00:00, 31.15it/s]\n"
     ]
    },
    {
     "name": "stdout",
     "output_type": "stream",
     "text": [
      "Failed for 2024-12-12 00:00:00. Potentially this is a future date Invalid dimensions (0,).\n",
      "Result: 0.07698503991072138\n",
      "Testing: beta_limit=0.1, sector_limit=0.1, max_weight=0.01, log=False\n"
     ]
    },
    {
     "name": "stderr",
     "output_type": "stream",
     "text": [
      "100%|██████████| 24/24 [00:00<00:00, 29.70it/s]\n"
     ]
    },
    {
     "name": "stdout",
     "output_type": "stream",
     "text": [
      "Failed for 2024-12-12 00:00:00. Potentially this is a future date Invalid dimensions (0,).\n",
      "Result: -0.07818370155824297\n",
      "Testing: beta_limit=0.1, sector_limit=0.1, max_weight=0.03, log=True\n"
     ]
    },
    {
     "name": "stderr",
     "output_type": "stream",
     "text": [
      "100%|██████████| 24/24 [00:01<00:00, 14.19it/s]\n"
     ]
    },
    {
     "name": "stdout",
     "output_type": "stream",
     "text": [
      "Failed for 2024-12-12 00:00:00. Potentially this is a future date Invalid dimensions (0,).\n",
      "Result: -0.1617182239156803\n",
      "Testing: beta_limit=0.1, sector_limit=0.1, max_weight=0.03, log=False\n"
     ]
    },
    {
     "name": "stderr",
     "output_type": "stream",
     "text": [
      "100%|██████████| 24/24 [00:01<00:00, 16.59it/s]\n"
     ]
    },
    {
     "name": "stdout",
     "output_type": "stream",
     "text": [
      "Failed for 2024-12-12 00:00:00. Potentially this is a future date Invalid dimensions (0,).\n",
      "Result: -0.35810908603599023\n",
      "Testing: beta_limit=0.1, sector_limit=0.1, max_weight=0.02, log=True\n"
     ]
    },
    {
     "name": "stderr",
     "output_type": "stream",
     "text": [
      "100%|██████████| 24/24 [00:00<00:00, 25.31it/s]\n"
     ]
    },
    {
     "name": "stdout",
     "output_type": "stream",
     "text": [
      "Failed for 2024-12-12 00:00:00. Potentially this is a future date Invalid dimensions (0,).\n",
      "Result: -0.291431344114235\n",
      "Testing: beta_limit=0.1, sector_limit=0.1, max_weight=0.02, log=False\n"
     ]
    },
    {
     "name": "stderr",
     "output_type": "stream",
     "text": [
      "100%|██████████| 24/24 [00:00<00:00, 30.09it/s]\n"
     ]
    },
    {
     "name": "stdout",
     "output_type": "stream",
     "text": [
      "Failed for 2024-12-12 00:00:00. Potentially this is a future date Invalid dimensions (0,).\n",
      "Result: -0.6680804548245214\n",
      "Testing: beta_limit=0.1, sector_limit=0.2, max_weight=0.01, log=True\n"
     ]
    },
    {
     "name": "stderr",
     "output_type": "stream",
     "text": [
      "100%|██████████| 24/24 [00:00<00:00, 30.46it/s]\n"
     ]
    },
    {
     "name": "stdout",
     "output_type": "stream",
     "text": [
      "Failed for 2024-12-12 00:00:00. Potentially this is a future date Invalid dimensions (0,).\n",
      "Result: 0.0371239166699972\n",
      "Testing: beta_limit=0.1, sector_limit=0.2, max_weight=0.01, log=False\n"
     ]
    },
    {
     "name": "stderr",
     "output_type": "stream",
     "text": [
      "100%|██████████| 24/24 [00:00<00:00, 30.70it/s]\n"
     ]
    },
    {
     "name": "stdout",
     "output_type": "stream",
     "text": [
      "Failed for 2024-12-12 00:00:00. Potentially this is a future date Invalid dimensions (0,).\n",
      "Result: -0.10781214758802052\n",
      "Testing: beta_limit=0.1, sector_limit=0.2, max_weight=0.03, log=True\n"
     ]
    },
    {
     "name": "stderr",
     "output_type": "stream",
     "text": [
      "100%|██████████| 24/24 [00:01<00:00, 17.41it/s]\n"
     ]
    },
    {
     "name": "stdout",
     "output_type": "stream",
     "text": [
      "Failed for 2024-12-12 00:00:00. Potentially this is a future date Invalid dimensions (0,).\n",
      "Result: 0.06157984675707527\n",
      "Testing: beta_limit=0.1, sector_limit=0.2, max_weight=0.03, log=False\n"
     ]
    },
    {
     "name": "stderr",
     "output_type": "stream",
     "text": [
      "100%|██████████| 24/24 [00:01<00:00, 19.67it/s]\n"
     ]
    },
    {
     "name": "stdout",
     "output_type": "stream",
     "text": [
      "Failed for 2024-12-12 00:00:00. Potentially this is a future date Invalid dimensions (0,).\n",
      "Result: -0.37433769358815794\n",
      "Testing: beta_limit=0.1, sector_limit=0.2, max_weight=0.02, log=True\n"
     ]
    },
    {
     "name": "stderr",
     "output_type": "stream",
     "text": [
      "100%|██████████| 24/24 [00:00<00:00, 28.41it/s]\n"
     ]
    },
    {
     "name": "stdout",
     "output_type": "stream",
     "text": [
      "Failed for 2024-12-12 00:00:00. Potentially this is a future date Invalid dimensions (0,).\n",
      "Result: -0.12289340857650058\n",
      "Testing: beta_limit=0.1, sector_limit=0.2, max_weight=0.02, log=False\n"
     ]
    },
    {
     "name": "stderr",
     "output_type": "stream",
     "text": [
      "100%|██████████| 24/24 [00:00<00:00, 31.25it/s]"
     ]
    },
    {
     "name": "stdout",
     "output_type": "stream",
     "text": [
      "Failed for 2024-12-12 00:00:00. Potentially this is a future date Invalid dimensions (0,).\n",
      "Result: -0.5910586295381555\n"
     ]
    },
    {
     "name": "stderr",
     "output_type": "stream",
     "text": [
      "\n"
     ]
    }
   ],
   "source": [
    "# Define ranges for grid search\n",
    "beta_limits = [0.05, 0.1]\n",
    "sector_limits = [0.05, 0.1, 0.2]\n",
    "max_weights = [0.01, 0.03, 0.02]\n",
    "log = [True, False]\n",
    "start = pd.to_datetime('2019-01-01')\n",
    "\n",
    "# Perform grid search\n",
    "results = SX5E.grid_search(beta_limits, sector_limits, max_weights, log, start)"
   ]
  },
  {
   "cell_type": "code",
   "execution_count": 45,
   "metadata": {},
   "outputs": [
    {
     "data": {
      "text/html": [
       "<div>\n",
       "<style scoped>\n",
       "    .dataframe tbody tr th:only-of-type {\n",
       "        vertical-align: middle;\n",
       "    }\n",
       "\n",
       "    .dataframe tbody tr th {\n",
       "        vertical-align: top;\n",
       "    }\n",
       "\n",
       "    .dataframe thead th {\n",
       "        text-align: right;\n",
       "    }\n",
       "</style>\n",
       "<table border=\"1\" class=\"dataframe\">\n",
       "  <thead>\n",
       "    <tr style=\"text-align: right;\">\n",
       "      <th></th>\n",
       "      <th>beta_limit</th>\n",
       "      <th>sector_limit</th>\n",
       "      <th>max_weight</th>\n",
       "      <th>log</th>\n",
       "      <th>final_cumulative_return</th>\n",
       "      <th>sharpe</th>\n",
       "      <th>max_dd</th>\n",
       "    </tr>\n",
       "  </thead>\n",
       "  <tbody>\n",
       "    <tr>\n",
       "      <th>29</th>\n",
       "      <td>0.10</td>\n",
       "      <td>0.10</td>\n",
       "      <td>0.02</td>\n",
       "      <td>False</td>\n",
       "      <td>0.900173</td>\n",
       "      <td>-0.668080</td>\n",
       "      <td>-0.120485</td>\n",
       "    </tr>\n",
       "    <tr>\n",
       "      <th>35</th>\n",
       "      <td>0.10</td>\n",
       "      <td>0.20</td>\n",
       "      <td>0.02</td>\n",
       "      <td>False</td>\n",
       "      <td>0.911658</td>\n",
       "      <td>-0.591059</td>\n",
       "      <td>-0.116373</td>\n",
       "    </tr>\n",
       "    <tr>\n",
       "      <th>17</th>\n",
       "      <td>0.05</td>\n",
       "      <td>0.20</td>\n",
       "      <td>0.02</td>\n",
       "      <td>False</td>\n",
       "      <td>0.911820</td>\n",
       "      <td>-0.557275</td>\n",
       "      <td>-0.123507</td>\n",
       "    </tr>\n",
       "    <tr>\n",
       "      <th>5</th>\n",
       "      <td>0.05</td>\n",
       "      <td>0.05</td>\n",
       "      <td>0.02</td>\n",
       "      <td>False</td>\n",
       "      <td>0.925357</td>\n",
       "      <td>-0.493080</td>\n",
       "      <td>-0.098774</td>\n",
       "    </tr>\n",
       "    <tr>\n",
       "      <th>23</th>\n",
       "      <td>0.10</td>\n",
       "      <td>0.05</td>\n",
       "      <td>0.02</td>\n",
       "      <td>False</td>\n",
       "      <td>0.927308</td>\n",
       "      <td>-0.478633</td>\n",
       "      <td>-0.091940</td>\n",
       "    </tr>\n",
       "    <tr>\n",
       "      <th>11</th>\n",
       "      <td>0.05</td>\n",
       "      <td>0.10</td>\n",
       "      <td>0.02</td>\n",
       "      <td>False</td>\n",
       "      <td>0.927918</td>\n",
       "      <td>-0.451506</td>\n",
       "      <td>-0.111468</td>\n",
       "    </tr>\n",
       "    <tr>\n",
       "      <th>33</th>\n",
       "      <td>0.10</td>\n",
       "      <td>0.20</td>\n",
       "      <td>0.03</td>\n",
       "      <td>False</td>\n",
       "      <td>0.927584</td>\n",
       "      <td>-0.374338</td>\n",
       "      <td>-0.121438</td>\n",
       "    </tr>\n",
       "    <tr>\n",
       "      <th>15</th>\n",
       "      <td>0.05</td>\n",
       "      <td>0.20</td>\n",
       "      <td>0.03</td>\n",
       "      <td>False</td>\n",
       "      <td>0.929101</td>\n",
       "      <td>-0.362442</td>\n",
       "      <td>-0.125958</td>\n",
       "    </tr>\n",
       "    <tr>\n",
       "      <th>27</th>\n",
       "      <td>0.10</td>\n",
       "      <td>0.10</td>\n",
       "      <td>0.03</td>\n",
       "      <td>False</td>\n",
       "      <td>0.929231</td>\n",
       "      <td>-0.358109</td>\n",
       "      <td>-0.116578</td>\n",
       "    </tr>\n",
       "    <tr>\n",
       "      <th>28</th>\n",
       "      <td>0.10</td>\n",
       "      <td>0.10</td>\n",
       "      <td>0.02</td>\n",
       "      <td>True</td>\n",
       "      <td>0.958816</td>\n",
       "      <td>-0.291431</td>\n",
       "      <td>-0.077313</td>\n",
       "    </tr>\n",
       "    <tr>\n",
       "      <th>21</th>\n",
       "      <td>0.10</td>\n",
       "      <td>0.05</td>\n",
       "      <td>0.03</td>\n",
       "      <td>False</td>\n",
       "      <td>0.943902</td>\n",
       "      <td>-0.288055</td>\n",
       "      <td>-0.096792</td>\n",
       "    </tr>\n",
       "    <tr>\n",
       "      <th>3</th>\n",
       "      <td>0.05</td>\n",
       "      <td>0.05</td>\n",
       "      <td>0.03</td>\n",
       "      <td>False</td>\n",
       "      <td>0.946505</td>\n",
       "      <td>-0.272796</td>\n",
       "      <td>-0.096565</td>\n",
       "    </tr>\n",
       "    <tr>\n",
       "      <th>10</th>\n",
       "      <td>0.05</td>\n",
       "      <td>0.10</td>\n",
       "      <td>0.02</td>\n",
       "      <td>True</td>\n",
       "      <td>0.961538</td>\n",
       "      <td>-0.268108</td>\n",
       "      <td>-0.073432</td>\n",
       "    </tr>\n",
       "    <tr>\n",
       "      <th>22</th>\n",
       "      <td>0.10</td>\n",
       "      <td>0.05</td>\n",
       "      <td>0.02</td>\n",
       "      <td>True</td>\n",
       "      <td>0.965163</td>\n",
       "      <td>-0.264800</td>\n",
       "      <td>-0.071524</td>\n",
       "    </tr>\n",
       "    <tr>\n",
       "      <th>20</th>\n",
       "      <td>0.10</td>\n",
       "      <td>0.05</td>\n",
       "      <td>0.03</td>\n",
       "      <td>True</td>\n",
       "      <td>0.951113</td>\n",
       "      <td>-0.263845</td>\n",
       "      <td>-0.103673</td>\n",
       "    </tr>\n",
       "    <tr>\n",
       "      <th>2</th>\n",
       "      <td>0.05</td>\n",
       "      <td>0.05</td>\n",
       "      <td>0.03</td>\n",
       "      <td>True</td>\n",
       "      <td>0.953267</td>\n",
       "      <td>-0.247538</td>\n",
       "      <td>-0.096722</td>\n",
       "    </tr>\n",
       "    <tr>\n",
       "      <th>9</th>\n",
       "      <td>0.05</td>\n",
       "      <td>0.10</td>\n",
       "      <td>0.03</td>\n",
       "      <td>False</td>\n",
       "      <td>0.949894</td>\n",
       "      <td>-0.240394</td>\n",
       "      <td>-0.109110</td>\n",
       "    </tr>\n",
       "    <tr>\n",
       "      <th>4</th>\n",
       "      <td>0.05</td>\n",
       "      <td>0.05</td>\n",
       "      <td>0.02</td>\n",
       "      <td>True</td>\n",
       "      <td>0.967597</td>\n",
       "      <td>-0.229957</td>\n",
       "      <td>-0.064207</td>\n",
       "    </tr>\n",
       "    <tr>\n",
       "      <th>1</th>\n",
       "      <td>0.05</td>\n",
       "      <td>0.05</td>\n",
       "      <td>0.01</td>\n",
       "      <td>False</td>\n",
       "      <td>0.977621</td>\n",
       "      <td>-0.206039</td>\n",
       "      <td>-0.048261</td>\n",
       "    </tr>\n",
       "    <tr>\n",
       "      <th>26</th>\n",
       "      <td>0.10</td>\n",
       "      <td>0.10</td>\n",
       "      <td>0.03</td>\n",
       "      <td>True</td>\n",
       "      <td>0.968361</td>\n",
       "      <td>-0.161718</td>\n",
       "      <td>-0.082928</td>\n",
       "    </tr>\n",
       "    <tr>\n",
       "      <th>16</th>\n",
       "      <td>0.05</td>\n",
       "      <td>0.20</td>\n",
       "      <td>0.02</td>\n",
       "      <td>True</td>\n",
       "      <td>0.979485</td>\n",
       "      <td>-0.154287</td>\n",
       "      <td>-0.054350</td>\n",
       "    </tr>\n",
       "    <tr>\n",
       "      <th>34</th>\n",
       "      <td>0.10</td>\n",
       "      <td>0.20</td>\n",
       "      <td>0.02</td>\n",
       "      <td>True</td>\n",
       "      <td>0.984264</td>\n",
       "      <td>-0.122893</td>\n",
       "      <td>-0.054797</td>\n",
       "    </tr>\n",
       "    <tr>\n",
       "      <th>8</th>\n",
       "      <td>0.05</td>\n",
       "      <td>0.10</td>\n",
       "      <td>0.03</td>\n",
       "      <td>True</td>\n",
       "      <td>0.977189</td>\n",
       "      <td>-0.118501</td>\n",
       "      <td>-0.074064</td>\n",
       "    </tr>\n",
       "    <tr>\n",
       "      <th>31</th>\n",
       "      <td>0.10</td>\n",
       "      <td>0.20</td>\n",
       "      <td>0.01</td>\n",
       "      <td>False</td>\n",
       "      <td>0.987671</td>\n",
       "      <td>-0.107812</td>\n",
       "      <td>-0.053879</td>\n",
       "    </tr>\n",
       "    <tr>\n",
       "      <th>19</th>\n",
       "      <td>0.10</td>\n",
       "      <td>0.05</td>\n",
       "      <td>0.01</td>\n",
       "      <td>False</td>\n",
       "      <td>0.990151</td>\n",
       "      <td>-0.088095</td>\n",
       "      <td>-0.040233</td>\n",
       "    </tr>\n",
       "    <tr>\n",
       "      <th>25</th>\n",
       "      <td>0.10</td>\n",
       "      <td>0.10</td>\n",
       "      <td>0.01</td>\n",
       "      <td>False</td>\n",
       "      <td>0.991196</td>\n",
       "      <td>-0.078184</td>\n",
       "      <td>-0.047257</td>\n",
       "    </tr>\n",
       "    <tr>\n",
       "      <th>13</th>\n",
       "      <td>0.05</td>\n",
       "      <td>0.20</td>\n",
       "      <td>0.01</td>\n",
       "      <td>False</td>\n",
       "      <td>0.995113</td>\n",
       "      <td>-0.042200</td>\n",
       "      <td>-0.039419</td>\n",
       "    </tr>\n",
       "    <tr>\n",
       "      <th>0</th>\n",
       "      <td>0.05</td>\n",
       "      <td>0.05</td>\n",
       "      <td>0.01</td>\n",
       "      <td>True</td>\n",
       "      <td>0.997974</td>\n",
       "      <td>-0.015186</td>\n",
       "      <td>-0.032397</td>\n",
       "    </tr>\n",
       "    <tr>\n",
       "      <th>7</th>\n",
       "      <td>0.05</td>\n",
       "      <td>0.10</td>\n",
       "      <td>0.01</td>\n",
       "      <td>False</td>\n",
       "      <td>0.999280</td>\n",
       "      <td>0.001885</td>\n",
       "      <td>-0.041324</td>\n",
       "    </tr>\n",
       "    <tr>\n",
       "      <th>30</th>\n",
       "      <td>0.10</td>\n",
       "      <td>0.20</td>\n",
       "      <td>0.01</td>\n",
       "      <td>True</td>\n",
       "      <td>1.002720</td>\n",
       "      <td>0.037124</td>\n",
       "      <td>-0.039076</td>\n",
       "    </tr>\n",
       "    <tr>\n",
       "      <th>12</th>\n",
       "      <td>0.05</td>\n",
       "      <td>0.20</td>\n",
       "      <td>0.01</td>\n",
       "      <td>True</td>\n",
       "      <td>1.002935</td>\n",
       "      <td>0.038534</td>\n",
       "      <td>-0.042013</td>\n",
       "    </tr>\n",
       "    <tr>\n",
       "      <th>14</th>\n",
       "      <td>0.05</td>\n",
       "      <td>0.20</td>\n",
       "      <td>0.03</td>\n",
       "      <td>True</td>\n",
       "      <td>1.007093</td>\n",
       "      <td>0.055890</td>\n",
       "      <td>-0.055622</td>\n",
       "    </tr>\n",
       "    <tr>\n",
       "      <th>32</th>\n",
       "      <td>0.10</td>\n",
       "      <td>0.20</td>\n",
       "      <td>0.03</td>\n",
       "      <td>True</td>\n",
       "      <td>1.008364</td>\n",
       "      <td>0.061580</td>\n",
       "      <td>-0.056539</td>\n",
       "    </tr>\n",
       "    <tr>\n",
       "      <th>24</th>\n",
       "      <td>0.10</td>\n",
       "      <td>0.10</td>\n",
       "      <td>0.01</td>\n",
       "      <td>True</td>\n",
       "      <td>1.005525</td>\n",
       "      <td>0.076985</td>\n",
       "      <td>-0.025257</td>\n",
       "    </tr>\n",
       "    <tr>\n",
       "      <th>18</th>\n",
       "      <td>0.10</td>\n",
       "      <td>0.05</td>\n",
       "      <td>0.01</td>\n",
       "      <td>True</td>\n",
       "      <td>1.007776</td>\n",
       "      <td>0.102769</td>\n",
       "      <td>-0.024991</td>\n",
       "    </tr>\n",
       "    <tr>\n",
       "      <th>6</th>\n",
       "      <td>0.05</td>\n",
       "      <td>0.10</td>\n",
       "      <td>0.01</td>\n",
       "      <td>True</td>\n",
       "      <td>1.012783</td>\n",
       "      <td>0.172494</td>\n",
       "      <td>-0.025282</td>\n",
       "    </tr>\n",
       "  </tbody>\n",
       "</table>\n",
       "</div>"
      ],
      "text/plain": [
       "    beta_limit  sector_limit  max_weight    log  final_cumulative_return  \\\n",
       "29        0.10          0.10        0.02  False                 0.900173   \n",
       "35        0.10          0.20        0.02  False                 0.911658   \n",
       "17        0.05          0.20        0.02  False                 0.911820   \n",
       "5         0.05          0.05        0.02  False                 0.925357   \n",
       "23        0.10          0.05        0.02  False                 0.927308   \n",
       "11        0.05          0.10        0.02  False                 0.927918   \n",
       "33        0.10          0.20        0.03  False                 0.927584   \n",
       "15        0.05          0.20        0.03  False                 0.929101   \n",
       "27        0.10          0.10        0.03  False                 0.929231   \n",
       "28        0.10          0.10        0.02   True                 0.958816   \n",
       "21        0.10          0.05        0.03  False                 0.943902   \n",
       "3         0.05          0.05        0.03  False                 0.946505   \n",
       "10        0.05          0.10        0.02   True                 0.961538   \n",
       "22        0.10          0.05        0.02   True                 0.965163   \n",
       "20        0.10          0.05        0.03   True                 0.951113   \n",
       "2         0.05          0.05        0.03   True                 0.953267   \n",
       "9         0.05          0.10        0.03  False                 0.949894   \n",
       "4         0.05          0.05        0.02   True                 0.967597   \n",
       "1         0.05          0.05        0.01  False                 0.977621   \n",
       "26        0.10          0.10        0.03   True                 0.968361   \n",
       "16        0.05          0.20        0.02   True                 0.979485   \n",
       "34        0.10          0.20        0.02   True                 0.984264   \n",
       "8         0.05          0.10        0.03   True                 0.977189   \n",
       "31        0.10          0.20        0.01  False                 0.987671   \n",
       "19        0.10          0.05        0.01  False                 0.990151   \n",
       "25        0.10          0.10        0.01  False                 0.991196   \n",
       "13        0.05          0.20        0.01  False                 0.995113   \n",
       "0         0.05          0.05        0.01   True                 0.997974   \n",
       "7         0.05          0.10        0.01  False                 0.999280   \n",
       "30        0.10          0.20        0.01   True                 1.002720   \n",
       "12        0.05          0.20        0.01   True                 1.002935   \n",
       "14        0.05          0.20        0.03   True                 1.007093   \n",
       "32        0.10          0.20        0.03   True                 1.008364   \n",
       "24        0.10          0.10        0.01   True                 1.005525   \n",
       "18        0.10          0.05        0.01   True                 1.007776   \n",
       "6         0.05          0.10        0.01   True                 1.012783   \n",
       "\n",
       "      sharpe    max_dd  \n",
       "29 -0.668080 -0.120485  \n",
       "35 -0.591059 -0.116373  \n",
       "17 -0.557275 -0.123507  \n",
       "5  -0.493080 -0.098774  \n",
       "23 -0.478633 -0.091940  \n",
       "11 -0.451506 -0.111468  \n",
       "33 -0.374338 -0.121438  \n",
       "15 -0.362442 -0.125958  \n",
       "27 -0.358109 -0.116578  \n",
       "28 -0.291431 -0.077313  \n",
       "21 -0.288055 -0.096792  \n",
       "3  -0.272796 -0.096565  \n",
       "10 -0.268108 -0.073432  \n",
       "22 -0.264800 -0.071524  \n",
       "20 -0.263845 -0.103673  \n",
       "2  -0.247538 -0.096722  \n",
       "9  -0.240394 -0.109110  \n",
       "4  -0.229957 -0.064207  \n",
       "1  -0.206039 -0.048261  \n",
       "26 -0.161718 -0.082928  \n",
       "16 -0.154287 -0.054350  \n",
       "34 -0.122893 -0.054797  \n",
       "8  -0.118501 -0.074064  \n",
       "31 -0.107812 -0.053879  \n",
       "19 -0.088095 -0.040233  \n",
       "25 -0.078184 -0.047257  \n",
       "13 -0.042200 -0.039419  \n",
       "0  -0.015186 -0.032397  \n",
       "7   0.001885 -0.041324  \n",
       "30  0.037124 -0.039076  \n",
       "12  0.038534 -0.042013  \n",
       "14  0.055890 -0.055622  \n",
       "32  0.061580 -0.056539  \n",
       "24  0.076985 -0.025257  \n",
       "18  0.102769 -0.024991  \n",
       "6   0.172494 -0.025282  "
      ]
     },
     "execution_count": 45,
     "metadata": {},
     "output_type": "execute_result"
    }
   ],
   "source": [
    "results.sort_values('sharpe')"
   ]
  },
  {
   "cell_type": "code",
   "execution_count": 36,
   "metadata": {},
   "outputs": [],
   "source": [
    "MXEU.optimized_portfolios[pd.to_datetime('2019-03-15')]['Optimized Weight'].to_clipboard()"
   ]
  },
  {
   "cell_type": "code",
   "execution_count": 10,
   "metadata": {},
   "outputs": [
    {
     "name": "stderr",
     "output_type": "stream",
     "text": [
      "100%|██████████| 24/24 [00:01<00:00, 12.11it/s]"
     ]
    },
    {
     "name": "stdout",
     "output_type": "stream",
     "text": [
      "Failed for 2024-12-12 00:00:00. Potentially this is a future date Invalid dimensions (0,).\n"
     ]
    },
    {
     "name": "stderr",
     "output_type": "stream",
     "text": [
      "\n"
     ]
    }
   ],
   "source": [
    "beta_limit = 0.1\n",
    "sector_limit = 0.05\n",
    "max_weight = 0.02\n",
    "\n",
    "MXEU.create_portfolios(beta_range=(-beta_limit,beta_limit),sector_range=(-sector_limit,sector_limit), max_weight=max_weight, log=False)\n",
    "MXEU.run_backtest()\n"
   ]
  },
  {
   "cell_type": "code",
   "execution_count": 28,
   "metadata": {},
   "outputs": [
    {
     "data": {
      "text/plain": [
       "<Axes: xlabel='date'>"
      ]
     },
     "execution_count": 28,
     "metadata": {},
     "output_type": "execute_result"
    },
    {
     "data": {
      "image/png": "[encoded data removed]",
      "text/plain": [
       "<Figure size 640x480 with 1 Axes>"
      ]
     },
     "metadata": {},
     "output_type": "display_data"
    }
   ],
   "source": [
    "(MXEU.strategy_returns + spx.strategy_returns.loc['2019':]).mul(3).add(1).cumprod().plot()"
   ]
  },
  {
   "cell_type": "code",
   "execution_count": 25,
   "metadata": {},
   "outputs": [],
   "source": [
    "daily_returns = spx.returns.fillna(0)\n",
    "schedule = spx.schedule\n",
    "optimized_portfolios = spx.optimized_portfolios"
   ]
  }
 ],
 "metadata": {
  "kernelspec": {
   "display_name": "qis",
   "language": "python",
   "name": "python3"
  },
  "language_info": {
   "codemirror_mode": {
    "name": "ipython",
    "version": 3
   },
   "file_extension": ".py",
   "mimetype": "text/x-python",
   "name": "python",
   "nbconvert_exporter": "python",
   "pygments_lexer": "ipython3",
   "version": "3.12.3"
  }
 },
 "nbformat": 4,
 "nbformat_minor": 2
}
